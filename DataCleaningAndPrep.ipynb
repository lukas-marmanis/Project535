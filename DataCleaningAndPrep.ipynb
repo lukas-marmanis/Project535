{
 "cells": [
  {
   "cell_type": "markdown",
   "metadata": {
    "collapsed": true,
    "pycharm": {
     "name": "#%% md\n"
    }
   },
   "source": [
    "### Data Cleaning and Preperation\n",
    "Author: Anthony Zalev\n",
    "Date: 4/16/2022\n",
    "Goal: Gather, clean and compile datasets for our stats 535 projects\n",
    "\n",
    "# Datasets:\n",
    "\n",
    "1. COVID-19 Vaccinations in the United States,County. Originally downloaded as a csv on 4/16/2022 from: https://data.cdc.gov/Vaccinations/COVID-19-Vaccinations-in-the-United-States-County/8xkx-amqh/data\n",
    "Lots of covid health data - cases and deaths.\n",
    "Start date 12/13/2020\n",
    "First covid vaccine shot given on 12/11 according to the fda\n",
    "\n",
    "https://data.cdc.gov/Vaccinations/COVID-19-Vaccinations-in-the-United-States-County/8xkx-amqh look here for details on the 66 columns.\n",
    "\n",
    "2. New York Times Covid 19 tracking data\n",
    "\n",
    "date,county,state,fips,cases,deaths\n",
    "starts on 2020/1/21\n",
    "Also collected on 4/16/2022\n",
    "\n",
    "https://github.com/nytimes/covid-19-data"
   ]
  },
  {
   "cell_type": "code",
   "execution_count": 18,
   "outputs": [],
   "source": [
    "#Imports\n",
    "import sqlite3 as sq\n",
    "import pandas as pd\n",
    "import numpy as np\n",
    "import seaborn as sns\n",
    "from sklearn.preprocessing import RobustScaler\n",
    "import pdb"
   ],
   "metadata": {
    "collapsed": false,
    "pycharm": {
     "name": "#%%\n"
    }
   }
  },
  {
   "cell_type": "code",
   "execution_count": 13,
   "outputs": [],
   "source": [
    "#create our sqllite database\n",
    "conn = sq.connect('datasets/{}.sqlite'.format(\"master\")) #create file"
   ],
   "metadata": {
    "collapsed": false,
    "pycharm": {
     "name": "#%%\n"
    }
   }
  },
  {
   "cell_type": "code",
   "execution_count": 4,
   "outputs": [
    {
     "data": {
      "text/plain": "         date       county       state     fips  cases  deaths\n0  2020-01-21    Snohomish  Washington  53061.0      1     0.0\n1  2020-01-22    Snohomish  Washington  53061.0      1     0.0\n2  2020-01-23    Snohomish  Washington  53061.0      1     0.0\n3  2020-01-24         Cook    Illinois  17031.0      1     0.0\n4  2020-01-24    Snohomish  Washington  53061.0      1     0.0\n5  2020-01-25       Orange  California   6059.0      1     0.0\n6  2020-01-25         Cook    Illinois  17031.0      1     0.0\n7  2020-01-25    Snohomish  Washington  53061.0      1     0.0\n8  2020-01-26     Maricopa     Arizona   4013.0      1     0.0\n9  2020-01-26  Los Angeles  California   6037.0      1     0.0",
      "text/html": "<div>\n<style scoped>\n    .dataframe tbody tr th:only-of-type {\n        vertical-align: middle;\n    }\n\n    .dataframe tbody tr th {\n        vertical-align: top;\n    }\n\n    .dataframe thead th {\n        text-align: right;\n    }\n</style>\n<table border=\"1\" class=\"dataframe\">\n  <thead>\n    <tr style=\"text-align: right;\">\n      <th></th>\n      <th>date</th>\n      <th>county</th>\n      <th>state</th>\n      <th>fips</th>\n      <th>cases</th>\n      <th>deaths</th>\n    </tr>\n  </thead>\n  <tbody>\n    <tr>\n      <th>0</th>\n      <td>2020-01-21</td>\n      <td>Snohomish</td>\n      <td>Washington</td>\n      <td>53061.0</td>\n      <td>1</td>\n      <td>0.0</td>\n    </tr>\n    <tr>\n      <th>1</th>\n      <td>2020-01-22</td>\n      <td>Snohomish</td>\n      <td>Washington</td>\n      <td>53061.0</td>\n      <td>1</td>\n      <td>0.0</td>\n    </tr>\n    <tr>\n      <th>2</th>\n      <td>2020-01-23</td>\n      <td>Snohomish</td>\n      <td>Washington</td>\n      <td>53061.0</td>\n      <td>1</td>\n      <td>0.0</td>\n    </tr>\n    <tr>\n      <th>3</th>\n      <td>2020-01-24</td>\n      <td>Cook</td>\n      <td>Illinois</td>\n      <td>17031.0</td>\n      <td>1</td>\n      <td>0.0</td>\n    </tr>\n    <tr>\n      <th>4</th>\n      <td>2020-01-24</td>\n      <td>Snohomish</td>\n      <td>Washington</td>\n      <td>53061.0</td>\n      <td>1</td>\n      <td>0.0</td>\n    </tr>\n    <tr>\n      <th>5</th>\n      <td>2020-01-25</td>\n      <td>Orange</td>\n      <td>California</td>\n      <td>6059.0</td>\n      <td>1</td>\n      <td>0.0</td>\n    </tr>\n    <tr>\n      <th>6</th>\n      <td>2020-01-25</td>\n      <td>Cook</td>\n      <td>Illinois</td>\n      <td>17031.0</td>\n      <td>1</td>\n      <td>0.0</td>\n    </tr>\n    <tr>\n      <th>7</th>\n      <td>2020-01-25</td>\n      <td>Snohomish</td>\n      <td>Washington</td>\n      <td>53061.0</td>\n      <td>1</td>\n      <td>0.0</td>\n    </tr>\n    <tr>\n      <th>8</th>\n      <td>2020-01-26</td>\n      <td>Maricopa</td>\n      <td>Arizona</td>\n      <td>4013.0</td>\n      <td>1</td>\n      <td>0.0</td>\n    </tr>\n    <tr>\n      <th>9</th>\n      <td>2020-01-26</td>\n      <td>Los Angeles</td>\n      <td>California</td>\n      <td>6037.0</td>\n      <td>1</td>\n      <td>0.0</td>\n    </tr>\n  </tbody>\n</table>\n</div>"
     },
     "execution_count": 4,
     "metadata": {},
     "output_type": "execute_result"
    }
   ],
   "source": [
    "#import nyt csv and check it out\n",
    "nyt_covid = pd.read_csv('datasets/us-counties.csv')\n",
    "nyt_covid.head(10)"
   ],
   "metadata": {
    "collapsed": false,
    "pycharm": {
     "name": "#%%\n"
    }
   }
  },
  {
   "cell_type": "code",
   "execution_count": 7,
   "outputs": [],
   "source": [
    "#move nyt_covid to database\n",
    "nyt_covid.to_sql(name=\"nyt_covid\", con = conn, if_exists='replace', index = False)"
   ],
   "metadata": {
    "collapsed": false,
    "pycharm": {
     "name": "#%%\n"
    }
   }
  },
  {
   "cell_type": "code",
   "execution_count": 16,
   "outputs": [],
   "source": [],
   "metadata": {
    "collapsed": false,
    "pycharm": {
     "name": "#%%\n"
    }
   }
  },
  {
   "cell_type": "code",
   "execution_count": 28,
   "outputs": [],
   "source": [
    "cdc_vaccine_db = pd.read_csv('datasets/COVID-19_Vaccinations_in_the_United_States_County.csv', low_memory=False)"
   ],
   "metadata": {
    "collapsed": false,
    "pycharm": {
     "name": "#%%\n"
    }
   }
  },
  {
   "cell_type": "code",
   "execution_count": 20,
   "outputs": [],
   "source": [
    "#move cdc_vaccine_db to database\n",
    "cdc_vaccine_db.to_sql(name=\"cdc_vaccine\", con = conn, if_exists='replace', index = False)"
   ],
   "metadata": {
    "collapsed": false,
    "pycharm": {
     "name": "#%%\n"
    }
   }
  },
  {
   "cell_type": "code",
   "execution_count": 29,
   "outputs": [],
   "source": [
    "#make backup incase I mess up and need to nuke it.\n",
    "cdc_vaccine_db.to_sql(name=\"cdc_vaccine_backup\", con = conn, if_exists='replace', index = False)\n",
    "nyt_covid.to_sql(name=\"nyt_covid_backup\", con = conn, if_exists='replace', index = False)"
   ],
   "metadata": {
    "collapsed": false,
    "pycharm": {
     "name": "#%%\n"
    }
   }
  },
  {
   "cell_type": "code",
   "execution_count": null,
   "outputs": [],
   "source": [
    "nyt_covid = pd.read_sql_table()"
   ],
   "metadata": {
    "collapsed": false,
    "pycharm": {
     "name": "#%%\n"
    }
   }
  },
  {
   "cell_type": "code",
   "execution_count": 30,
   "outputs": [],
   "source": [
    "del cdc_vaccine_db\n",
    "del nyt_covid"
   ],
   "metadata": {
    "collapsed": false,
    "pycharm": {
     "name": "#%%\n"
    }
   }
  },
  {
   "cell_type": "markdown",
   "source": [
    "Begin cleanup"
   ],
   "metadata": {
    "collapsed": false
   }
  },
  {
   "cell_type": "code",
   "execution_count": 6,
   "outputs": [],
   "source": [
    "c = conn.cursor()"
   ],
   "metadata": {
    "collapsed": false,
    "pycharm": {
     "name": "#%%\n"
    }
   }
  },
  {
   "cell_type": "code",
   "execution_count": 36,
   "outputs": [
    {
     "name": "stdout",
     "output_type": "stream",
     "text": [
      "         date       county       state     fips  cases  deaths\n",
      "0  2020-01-21    Snohomish  Washington  53061.0      1     0.0\n",
      "1  2020-01-22    Snohomish  Washington  53061.0      1     0.0\n",
      "2  2020-01-23    Snohomish  Washington  53061.0      1     0.0\n",
      "3  2020-01-24         Cook    Illinois  17031.0      1     0.0\n",
      "4  2020-01-24    Snohomish  Washington  53061.0      1     0.0\n",
      "5  2020-01-25       Orange  California   6059.0      1     0.0\n",
      "6  2020-01-25         Cook    Illinois  17031.0      1     0.0\n",
      "7  2020-01-25    Snohomish  Washington  53061.0      1     0.0\n",
      "8  2020-01-26     Maricopa     Arizona   4013.0      1     0.0\n",
      "9  2020-01-26  Los Angeles  California   6037.0      1     0.0\n",
      "         Date   FIPS  MMWR_week     Recip_County Recip_State  \\\n",
      "0  2022-04-16  19053         15   Decatur County          IA   \n",
      "1  2022-04-16  17061         15    Greene County          IL   \n",
      "2  2022-04-16  17069         15    Hardin County          IL   \n",
      "3  2022-04-16  17113         15    McLean County          IL   \n",
      "4  2022-04-16  18051         15    Gibson County          IN   \n",
      "5  2022-04-16  18075         15       Jay County          IN   \n",
      "6  2022-04-16  18079         15  Jennings County          IN   \n",
      "7  2022-04-16  18173         15   Warrick County          IN   \n",
      "8  2022-04-16  20059         15  Franklin County          KS   \n",
      "9  2022-04-16  20093         15    Kearny County          KS   \n",
      "\n",
      "   Completeness_pct  Administered_Dose1_Recip  Administered_Dose1_Pop_Pct  \\\n",
      "0              97.4                    3571.0                        45.4   \n",
      "1              98.3                    6035.0                        46.5   \n",
      "2              98.3                    1742.0                        45.6   \n",
      "3              98.3                  118741.0                        69.2   \n",
      "4              98.6                   17378.0                        51.6   \n",
      "5              98.6                    8786.0                        43.0   \n",
      "6              98.6                   12529.0                        45.2   \n",
      "7              98.6                   43157.0                        68.5   \n",
      "8              93.6                   14935.0                        58.5   \n",
      "9              93.6                    2376.0                        61.9   \n",
      "\n",
      "   Administered_Dose1_Recip_5Plus  Administered_Dose1_Recip_5PlusPop_Pct  ...  \\\n",
      "0                          3571.0                                   48.4  ...   \n",
      "1                          6033.0                                   49.2  ...   \n",
      "2                          1742.0                                   47.4  ...   \n",
      "3                        118622.0                                   73.4  ...   \n",
      "4                         17368.0                                   55.0  ...   \n",
      "5                          8785.0                                   46.2  ...   \n",
      "6                         12528.0                                   48.1  ...   \n",
      "7                         43157.0                                   72.5  ...   \n",
      "8                         14933.0                                   62.3  ...   \n",
      "9                          2376.0                                   66.9  ...   \n",
      "\n",
      "   Booster_Doses_Vax_Pct_UR_Equity  Booster_Doses_12PlusVax_Pct_UR_Equity  \\\n",
      "0                              8.0                                    8.0   \n",
      "1                              7.0                                    7.0   \n",
      "2                              7.0                                    7.0   \n",
      "3                              4.0                                    4.0   \n",
      "4                              7.0                                    7.0   \n",
      "5                              7.0                                    7.0   \n",
      "6                              7.0                                    7.0   \n",
      "7                              3.0                                    4.0   \n",
      "8                              7.0                                    7.0   \n",
      "9                              6.0                                    6.0   \n",
      "\n",
      "   Booster_Doses_18PlusVax_Pct_UR_Equity  \\\n",
      "0                                    8.0   \n",
      "1                                    7.0   \n",
      "2                                    7.0   \n",
      "3                                    4.0   \n",
      "4                                    7.0   \n",
      "5                                    8.0   \n",
      "6                                    7.0   \n",
      "7                                    4.0   \n",
      "8                                    7.0   \n",
      "9                                    7.0   \n",
      "\n",
      "   Booster_Doses_65PlusVax_Pct_UR_Equity  Census2019  Census2019_5PlusPop  \\\n",
      "0                                    7.0      7870.0               7384.0   \n",
      "1                                    7.0     12969.0              12274.0   \n",
      "2                                    6.0      3821.0               3677.0   \n",
      "3                                    3.0    171517.0             161693.0   \n",
      "4                                    7.0     33659.0              31584.0   \n",
      "5                                    7.0     20436.0              19008.0   \n",
      "6                                    6.0     27735.0              26038.0   \n",
      "7                                    3.0     62998.0              59515.0   \n",
      "8                                    7.0     25544.0              23973.0   \n",
      "9                                    7.0      3838.0               3551.0   \n",
      "\n",
      "   Census2019_5to17Pop  Census2019_12PlusPop  Census2019_18PlusPop  \\\n",
      "0               1270.0                6711.0                6114.0   \n",
      "1               2074.0               11198.0               10200.0   \n",
      "2                525.0                3408.0                3152.0   \n",
      "3              26621.0              147553.0              135072.0   \n",
      "4               5919.0               28458.0               25665.0   \n",
      "5               3728.0               17023.0               15280.0   \n",
      "6               4748.0               23510.0               21290.0   \n",
      "7              11287.0               53716.0               48228.0   \n",
      "8               4471.0               21645.0               19502.0   \n",
      "9                817.0                3092.0                2734.0   \n",
      "\n",
      "   Census2019_65PlusPop  \n",
      "0                1601.0  \n",
      "1                2598.0  \n",
      "2                1021.0  \n",
      "3               23622.0  \n",
      "4                5981.0  \n",
      "5                3775.0  \n",
      "6                4675.0  \n",
      "7               11273.0  \n",
      "8                4346.0  \n",
      "9                 632.0  \n",
      "\n",
      "[10 rows x 66 columns]\n"
     ]
    }
   ],
   "source": [
    "#c.execute(\"SELECT * FROM nyt_covid\")\n",
    "nyt_records = pd.read_sql_query(\"SELECT * FROM nyt_covid LIMIT 10\", conn)\n",
    "print(nyt_records)\n",
    "cdc_vaccine_records = pd.read_sql_query(\"SELECT * FROM cdc_vaccine LIMIT 10\", conn)\n",
    "print(cdc_vaccine_records)"
   ],
   "metadata": {
    "collapsed": false,
    "pycharm": {
     "name": "#%%\n"
    }
   }
  },
  {
   "cell_type": "markdown",
   "source": [
    "The following statements were executed in a sqlliteconsole"
   ],
   "metadata": {
    "collapsed": false
   }
  },
  {
   "cell_type": "code",
   "execution_count": 33,
   "outputs": [
    {
     "ename": "DatabaseError",
     "evalue": "Execution failed on sql 'UPDATE cdc_vaccine SET cdc_vaccine.Date = substr(main.cdc_vaccine.Date, 7, 4)||'-'||substr(main.cdc_vaccine.Date, 1,2)||'-'||substr(main.cdc_vaccine.Date, 4,2) from cdc_vaccine': near \".\": syntax error",
     "output_type": "error",
     "traceback": [
      "\u001B[1;31m---------------------------------------------------------------------------\u001B[0m",
      "\u001B[1;31mOperationalError\u001B[0m                          Traceback (most recent call last)",
      "\u001B[1;32m~\\anaconda3\\lib\\site-packages\\pandas\\io\\sql.py\u001B[0m in \u001B[0;36mexecute\u001B[1;34m(self, *args, **kwargs)\u001B[0m\n\u001B[0;32m   2055\u001B[0m         \u001B[1;32mtry\u001B[0m\u001B[1;33m:\u001B[0m\u001B[1;33m\u001B[0m\u001B[1;33m\u001B[0m\u001B[0m\n\u001B[1;32m-> 2056\u001B[1;33m             \u001B[0mcur\u001B[0m\u001B[1;33m.\u001B[0m\u001B[0mexecute\u001B[0m\u001B[1;33m(\u001B[0m\u001B[1;33m*\u001B[0m\u001B[0margs\u001B[0m\u001B[1;33m,\u001B[0m \u001B[1;33m**\u001B[0m\u001B[0mkwargs\u001B[0m\u001B[1;33m)\u001B[0m\u001B[1;33m\u001B[0m\u001B[1;33m\u001B[0m\u001B[0m\n\u001B[0m\u001B[0;32m   2057\u001B[0m             \u001B[1;32mreturn\u001B[0m \u001B[0mcur\u001B[0m\u001B[1;33m\u001B[0m\u001B[1;33m\u001B[0m\u001B[0m\n",
      "\u001B[1;31mOperationalError\u001B[0m: near \".\": syntax error",
      "\nThe above exception was the direct cause of the following exception:\n",
      "\u001B[1;31mDatabaseError\u001B[0m                             Traceback (most recent call last)",
      "\u001B[1;32m~\\AppData\\Local\\Temp/ipykernel_7144/3048067848.py\u001B[0m in \u001B[0;36m<module>\u001B[1;34m\u001B[0m\n\u001B[1;32m----> 1\u001B[1;33m \u001B[0mcdc_records_updated\u001B[0m \u001B[1;33m=\u001B[0m \u001B[0mpd\u001B[0m\u001B[1;33m.\u001B[0m\u001B[0mread_sql_query\u001B[0m\u001B[1;33m(\u001B[0m\u001B[1;34m\"UPDATE cdc_vaccine SET cdc_vaccine.Date = substr(main.cdc_vaccine.Date, 7, 4)||'-'||substr(main.cdc_vaccine.Date, 1,2)||'-'||substr(main.cdc_vaccine.Date, 4,2) from cdc_vaccine\"\u001B[0m\u001B[1;33m,\u001B[0m \u001B[0mconn\u001B[0m\u001B[1;33m)\u001B[0m\u001B[1;33m\u001B[0m\u001B[1;33m\u001B[0m\u001B[0m\n\u001B[0m\u001B[0;32m      2\u001B[0m \u001B[0mprint\u001B[0m\u001B[1;33m(\u001B[0m\u001B[0mcdc_records_updated\u001B[0m\u001B[1;33m)\u001B[0m\u001B[1;33m\u001B[0m\u001B[1;33m\u001B[0m\u001B[0m\n",
      "\u001B[1;32m~\\anaconda3\\lib\\site-packages\\pandas\\io\\sql.py\u001B[0m in \u001B[0;36mread_sql_query\u001B[1;34m(sql, con, index_col, coerce_float, params, parse_dates, chunksize, dtype)\u001B[0m\n\u001B[0;32m    434\u001B[0m     \"\"\"\n\u001B[0;32m    435\u001B[0m     \u001B[0mpandas_sql\u001B[0m \u001B[1;33m=\u001B[0m \u001B[0mpandasSQL_builder\u001B[0m\u001B[1;33m(\u001B[0m\u001B[0mcon\u001B[0m\u001B[1;33m)\u001B[0m\u001B[1;33m\u001B[0m\u001B[1;33m\u001B[0m\u001B[0m\n\u001B[1;32m--> 436\u001B[1;33m     return pandas_sql.read_query(\n\u001B[0m\u001B[0;32m    437\u001B[0m         \u001B[0msql\u001B[0m\u001B[1;33m,\u001B[0m\u001B[1;33m\u001B[0m\u001B[1;33m\u001B[0m\u001B[0m\n\u001B[0;32m    438\u001B[0m         \u001B[0mindex_col\u001B[0m\u001B[1;33m=\u001B[0m\u001B[0mindex_col\u001B[0m\u001B[1;33m,\u001B[0m\u001B[1;33m\u001B[0m\u001B[1;33m\u001B[0m\u001B[0m\n",
      "\u001B[1;32m~\\anaconda3\\lib\\site-packages\\pandas\\io\\sql.py\u001B[0m in \u001B[0;36mread_query\u001B[1;34m(self, sql, index_col, coerce_float, params, parse_dates, chunksize, dtype)\u001B[0m\n\u001B[0;32m   2114\u001B[0m \u001B[1;33m\u001B[0m\u001B[0m\n\u001B[0;32m   2115\u001B[0m         \u001B[0margs\u001B[0m \u001B[1;33m=\u001B[0m \u001B[0m_convert_params\u001B[0m\u001B[1;33m(\u001B[0m\u001B[0msql\u001B[0m\u001B[1;33m,\u001B[0m \u001B[0mparams\u001B[0m\u001B[1;33m)\u001B[0m\u001B[1;33m\u001B[0m\u001B[1;33m\u001B[0m\u001B[0m\n\u001B[1;32m-> 2116\u001B[1;33m         \u001B[0mcursor\u001B[0m \u001B[1;33m=\u001B[0m \u001B[0mself\u001B[0m\u001B[1;33m.\u001B[0m\u001B[0mexecute\u001B[0m\u001B[1;33m(\u001B[0m\u001B[1;33m*\u001B[0m\u001B[0margs\u001B[0m\u001B[1;33m)\u001B[0m\u001B[1;33m\u001B[0m\u001B[1;33m\u001B[0m\u001B[0m\n\u001B[0m\u001B[0;32m   2117\u001B[0m         \u001B[0mcolumns\u001B[0m \u001B[1;33m=\u001B[0m \u001B[1;33m[\u001B[0m\u001B[0mcol_desc\u001B[0m\u001B[1;33m[\u001B[0m\u001B[1;36m0\u001B[0m\u001B[1;33m]\u001B[0m \u001B[1;32mfor\u001B[0m \u001B[0mcol_desc\u001B[0m \u001B[1;32min\u001B[0m \u001B[0mcursor\u001B[0m\u001B[1;33m.\u001B[0m\u001B[0mdescription\u001B[0m\u001B[1;33m]\u001B[0m\u001B[1;33m\u001B[0m\u001B[1;33m\u001B[0m\u001B[0m\n\u001B[0;32m   2118\u001B[0m \u001B[1;33m\u001B[0m\u001B[0m\n",
      "\u001B[1;32m~\\anaconda3\\lib\\site-packages\\pandas\\io\\sql.py\u001B[0m in \u001B[0;36mexecute\u001B[1;34m(self, *args, **kwargs)\u001B[0m\n\u001B[0;32m   2066\u001B[0m \u001B[1;33m\u001B[0m\u001B[0m\n\u001B[0;32m   2067\u001B[0m             \u001B[0mex\u001B[0m \u001B[1;33m=\u001B[0m \u001B[0mDatabaseError\u001B[0m\u001B[1;33m(\u001B[0m\u001B[1;34mf\"Execution failed on sql '{args[0]}': {exc}\"\u001B[0m\u001B[1;33m)\u001B[0m\u001B[1;33m\u001B[0m\u001B[1;33m\u001B[0m\u001B[0m\n\u001B[1;32m-> 2068\u001B[1;33m             \u001B[1;32mraise\u001B[0m \u001B[0mex\u001B[0m \u001B[1;32mfrom\u001B[0m \u001B[0mexc\u001B[0m\u001B[1;33m\u001B[0m\u001B[1;33m\u001B[0m\u001B[0m\n\u001B[0m\u001B[0;32m   2069\u001B[0m \u001B[1;33m\u001B[0m\u001B[0m\n\u001B[0;32m   2070\u001B[0m     \u001B[1;33m@\u001B[0m\u001B[0mstaticmethod\u001B[0m\u001B[1;33m\u001B[0m\u001B[1;33m\u001B[0m\u001B[0m\n",
      "\u001B[1;31mDatabaseError\u001B[0m: Execution failed on sql 'UPDATE cdc_vaccine SET cdc_vaccine.Date = substr(main.cdc_vaccine.Date, 7, 4)||'-'||substr(main.cdc_vaccine.Date, 1,2)||'-'||substr(main.cdc_vaccine.Date, 4,2) from cdc_vaccine': near \".\": syntax error"
     ]
    }
   ],
   "source": [
    "#change format of cdc vaccine from mm/dd/yyyy to yyyy/mm/dd\n",
    "#UPDATE cdc_vaccine SET cdc_vaccine.Date = substr(main.cdc_vaccine.Date, 7, 4)||'-'||substr(main.cdc_vaccine.Date, 1,2)||'-'||substr(main.cdc_vaccine.Date, 4,2)"
   ],
   "metadata": {
    "collapsed": false,
    "pycharm": {
     "name": "#%%\n"
    }
   }
  },
  {
   "cell_type": "code",
   "execution_count": 10,
   "outputs": [],
   "source": [
    "nyt_cases_per_death_df = pd.read_sql_query(\"SELECT date, cases_per_death FROM nyt_covid\", conn)"
   ],
   "metadata": {
    "collapsed": false,
    "pycharm": {
     "name": "#%%\n"
    }
   }
  },
  {
   "cell_type": "code",
   "execution_count": 11,
   "outputs": [
    {
     "data": {
      "text/plain": "<AxesSubplot:xlabel='date', ylabel='cases_per_death'>"
     },
     "execution_count": 11,
     "metadata": {},
     "output_type": "execute_result"
    },
    {
     "data": {
      "text/plain": "<Figure size 432x288 with 1 Axes>",
      "image/png": "[encoded data removed]"
     },
     "metadata": {
      "needs_background": "light"
     },
     "output_type": "display_data"
    }
   ],
   "source": [
    "sns.lineplot(x = \"date\", y = \"cases_per_death\",\n",
    "             data = nyt_cases_per_death_df)"
   ],
   "metadata": {
    "collapsed": false,
    "pycharm": {
     "name": "#%%\n"
    }
   }
  },
  {
   "cell_type": "markdown",
   "source": [],
   "metadata": {
    "collapsed": false
   }
  },
  {
   "cell_type": "code",
   "execution_count": 15,
   "outputs": [
    {
     "data": {
      "text/plain": "  year_week state    fips  avg_cases  avg_deaths  administered_dose1_pct  \\\n0   2022-15    AL  1001.0    15750.0       213.8                   55.46   \n1   2022-15    AL  1003.0    55523.2       678.4                   64.18   \n2   2022-15    AL  1005.0     5658.0        98.0                   55.52   \n3   2022-15    AL  1007.0     6426.2       101.8                   42.50   \n4   2022-15    AL  1009.0    14943.0       240.8                   38.30   \n5   2022-15    AL  1011.0     2303.6        53.6                   67.12   \n6   2022-15    AL  1013.0     5053.8       129.0                   49.60   \n7   2022-15    AL  1015.0    32360.8       621.8                   57.20   \n8   2022-15    AL  1017.0     8476.2       161.6                   37.72   \n9   2022-15    AL  1019.0     5117.2        85.4                   37.80   \n\n   booster_pct metro_status  census_pop_2019  \n0        32.40        Metro            55869  \n1        35.06        Metro           223234  \n2        32.88    Non-metro            24686  \n3        34.54        Metro            22394  \n4        33.12        Metro            57826  \n5        31.28    Non-metro            10101  \n6        32.02    Non-metro            19448  \n7        35.48        Metro           113605  \n8        36.58    Non-metro            33254  \n9        38.06    Non-metro            26196  ",
      "text/html": "<div>\n<style scoped>\n    .dataframe tbody tr th:only-of-type {\n        vertical-align: middle;\n    }\n\n    .dataframe tbody tr th {\n        vertical-align: top;\n    }\n\n    .dataframe thead th {\n        text-align: right;\n    }\n</style>\n<table border=\"1\" class=\"dataframe\">\n  <thead>\n    <tr style=\"text-align: right;\">\n      <th></th>\n      <th>year_week</th>\n      <th>state</th>\n      <th>fips</th>\n      <th>avg_cases</th>\n      <th>avg_deaths</th>\n      <th>administered_dose1_pct</th>\n      <th>booster_pct</th>\n      <th>metro_status</th>\n      <th>census_pop_2019</th>\n    </tr>\n  </thead>\n  <tbody>\n    <tr>\n      <th>0</th>\n      <td>2022-15</td>\n      <td>AL</td>\n      <td>1001.0</td>\n      <td>15750.0</td>\n      <td>213.8</td>\n      <td>55.46</td>\n      <td>32.40</td>\n      <td>Metro</td>\n      <td>55869</td>\n    </tr>\n    <tr>\n      <th>1</th>\n      <td>2022-15</td>\n      <td>AL</td>\n      <td>1003.0</td>\n      <td>55523.2</td>\n      <td>678.4</td>\n      <td>64.18</td>\n      <td>35.06</td>\n      <td>Metro</td>\n      <td>223234</td>\n    </tr>\n    <tr>\n      <th>2</th>\n      <td>2022-15</td>\n      <td>AL</td>\n      <td>1005.0</td>\n      <td>5658.0</td>\n      <td>98.0</td>\n      <td>55.52</td>\n      <td>32.88</td>\n      <td>Non-metro</td>\n      <td>24686</td>\n    </tr>\n    <tr>\n      <th>3</th>\n      <td>2022-15</td>\n      <td>AL</td>\n      <td>1007.0</td>\n      <td>6426.2</td>\n      <td>101.8</td>\n      <td>42.50</td>\n      <td>34.54</td>\n      <td>Metro</td>\n      <td>22394</td>\n    </tr>\n    <tr>\n      <th>4</th>\n      <td>2022-15</td>\n      <td>AL</td>\n      <td>1009.0</td>\n      <td>14943.0</td>\n      <td>240.8</td>\n      <td>38.30</td>\n      <td>33.12</td>\n      <td>Metro</td>\n      <td>57826</td>\n    </tr>\n    <tr>\n      <th>5</th>\n      <td>2022-15</td>\n      <td>AL</td>\n      <td>1011.0</td>\n      <td>2303.6</td>\n      <td>53.6</td>\n      <td>67.12</td>\n      <td>31.28</td>\n      <td>Non-metro</td>\n      <td>10101</td>\n    </tr>\n    <tr>\n      <th>6</th>\n      <td>2022-15</td>\n      <td>AL</td>\n      <td>1013.0</td>\n      <td>5053.8</td>\n      <td>129.0</td>\n      <td>49.60</td>\n      <td>32.02</td>\n      <td>Non-metro</td>\n      <td>19448</td>\n    </tr>\n    <tr>\n      <th>7</th>\n      <td>2022-15</td>\n      <td>AL</td>\n      <td>1015.0</td>\n      <td>32360.8</td>\n      <td>621.8</td>\n      <td>57.20</td>\n      <td>35.48</td>\n      <td>Metro</td>\n      <td>113605</td>\n    </tr>\n    <tr>\n      <th>8</th>\n      <td>2022-15</td>\n      <td>AL</td>\n      <td>1017.0</td>\n      <td>8476.2</td>\n      <td>161.6</td>\n      <td>37.72</td>\n      <td>36.58</td>\n      <td>Non-metro</td>\n      <td>33254</td>\n    </tr>\n    <tr>\n      <th>9</th>\n      <td>2022-15</td>\n      <td>AL</td>\n      <td>1019.0</td>\n      <td>5117.2</td>\n      <td>85.4</td>\n      <td>37.80</td>\n      <td>38.06</td>\n      <td>Non-metro</td>\n      <td>26196</td>\n    </tr>\n  </tbody>\n</table>\n</div>"
     },
     "execution_count": 15,
     "metadata": {},
     "output_type": "execute_result"
    }
   ],
   "source": [
    "combined_weekly = pd.read_sql_query(\"SELECT * FROM combined_weekly\", conn)\n",
    "combined_weekly.head(10)"
   ],
   "metadata": {
    "collapsed": false,
    "pycharm": {
     "name": "#%%\n"
    }
   }
  },
  {
   "cell_type": "markdown",
   "source": [
    "Onehot encode state, metrostatus."
   ],
   "metadata": {
    "collapsed": false
   }
  },
  {
   "cell_type": "code",
   "execution_count": 53,
   "outputs": [
    {
     "data": {
      "text/plain": "  year_week    fips  avg_cases  avg_deaths  administered_dose1_pct  \\\n0   2022-15  1001.0    15750.0       213.8                   55.46   \n1   2022-15  1003.0    55523.2       678.4                   64.18   \n2   2022-15  1005.0     5658.0        98.0                   55.52   \n3   2022-15  1007.0     6426.2       101.8                   42.50   \n4   2022-15  1009.0    14943.0       240.8                   38.30   \n5   2022-15  1011.0     2303.6        53.6                   67.12   \n6   2022-15  1013.0     5053.8       129.0                   49.60   \n7   2022-15  1015.0    32360.8       621.8                   57.20   \n8   2022-15  1017.0     8476.2       161.6                   37.72   \n9   2022-15  1019.0     5117.2        85.4                   37.80   \n\n   booster_pct  census_pop_2019  state_AK  state_AL  state_AR  ...  state_UT  \\\n0        32.40            55869         0         1         0  ...         0   \n1        35.06           223234         0         1         0  ...         0   \n2        32.88            24686         0         1         0  ...         0   \n3        34.54            22394         0         1         0  ...         0   \n4        33.12            57826         0         1         0  ...         0   \n5        31.28            10101         0         1         0  ...         0   \n6        32.02            19448         0         1         0  ...         0   \n7        35.48           113605         0         1         0  ...         0   \n8        36.58            33254         0         1         0  ...         0   \n9        38.06            26196         0         1         0  ...         0   \n\n   state_VA  state_VI  state_VT  state_WA  state_WI  state_WV  state_WY  \\\n0         0         0         0         0         0         0         0   \n1         0         0         0         0         0         0         0   \n2         0         0         0         0         0         0         0   \n3         0         0         0         0         0         0         0   \n4         0         0         0         0         0         0         0   \n5         0         0         0         0         0         0         0   \n6         0         0         0         0         0         0         0   \n7         0         0         0         0         0         0         0   \n8         0         0         0         0         0         0         0   \n9         0         0         0         0         0         0         0   \n\n   metro_status_Metro  metro_status_Non-metro  \n0                   1                       0  \n1                   1                       0  \n2                   0                       1  \n3                   1                       0  \n4                   1                       0  \n5                   0                       1  \n6                   0                       1  \n7                   1                       0  \n8                   0                       1  \n9                   0                       1  \n\n[10 rows x 62 columns]",
      "text/html": "<div>\n<style scoped>\n    .dataframe tbody tr th:only-of-type {\n        vertical-align: middle;\n    }\n\n    .dataframe tbody tr th {\n        vertical-align: top;\n    }\n\n    .dataframe thead th {\n        text-align: right;\n    }\n</style>\n<table border=\"1\" class=\"dataframe\">\n  <thead>\n    <tr style=\"text-align: right;\">\n      <th></th>\n      <th>year_week</th>\n      <th>fips</th>\n      <th>avg_cases</th>\n      <th>avg_deaths</th>\n      <th>administered_dose1_pct</th>\n      <th>booster_pct</th>\n      <th>census_pop_2019</th>\n      <th>state_AK</th>\n      <th>state_AL</th>\n      <th>state_AR</th>\n      <th>...</th>\n      <th>state_UT</th>\n      <th>state_VA</th>\n      <th>state_VI</th>\n      <th>state_VT</th>\n      <th>state_WA</th>\n      <th>state_WI</th>\n      <th>state_WV</th>\n      <th>state_WY</th>\n      <th>metro_status_Metro</th>\n      <th>metro_status_Non-metro</th>\n    </tr>\n  </thead>\n  <tbody>\n    <tr>\n      <th>0</th>\n      <td>2022-15</td>\n      <td>1001.0</td>\n      <td>15750.0</td>\n      <td>213.8</td>\n      <td>55.46</td>\n      <td>32.40</td>\n      <td>55869</td>\n      <td>0</td>\n      <td>1</td>\n      <td>0</td>\n      <td>...</td>\n      <td>0</td>\n      <td>0</td>\n      <td>0</td>\n      <td>0</td>\n      <td>0</td>\n      <td>0</td>\n      <td>0</td>\n      <td>0</td>\n      <td>1</td>\n      <td>0</td>\n    </tr>\n    <tr>\n      <th>1</th>\n      <td>2022-15</td>\n      <td>1003.0</td>\n      <td>55523.2</td>\n      <td>678.4</td>\n      <td>64.18</td>\n      <td>35.06</td>\n      <td>223234</td>\n      <td>0</td>\n      <td>1</td>\n      <td>0</td>\n      <td>...</td>\n      <td>0</td>\n      <td>0</td>\n      <td>0</td>\n      <td>0</td>\n      <td>0</td>\n      <td>0</td>\n      <td>0</td>\n      <td>0</td>\n      <td>1</td>\n      <td>0</td>\n    </tr>\n    <tr>\n      <th>2</th>\n      <td>2022-15</td>\n      <td>1005.0</td>\n      <td>5658.0</td>\n      <td>98.0</td>\n      <td>55.52</td>\n      <td>32.88</td>\n      <td>24686</td>\n      <td>0</td>\n      <td>1</td>\n      <td>0</td>\n      <td>...</td>\n      <td>0</td>\n      <td>0</td>\n      <td>0</td>\n      <td>0</td>\n      <td>0</td>\n      <td>0</td>\n      <td>0</td>\n      <td>0</td>\n      <td>0</td>\n      <td>1</td>\n    </tr>\n    <tr>\n      <th>3</th>\n      <td>2022-15</td>\n      <td>1007.0</td>\n      <td>6426.2</td>\n      <td>101.8</td>\n      <td>42.50</td>\n      <td>34.54</td>\n      <td>22394</td>\n      <td>0</td>\n      <td>1</td>\n      <td>0</td>\n      <td>...</td>\n      <td>0</td>\n      <td>0</td>\n      <td>0</td>\n      <td>0</td>\n      <td>0</td>\n      <td>0</td>\n      <td>0</td>\n      <td>0</td>\n      <td>1</td>\n      <td>0</td>\n    </tr>\n    <tr>\n      <th>4</th>\n      <td>2022-15</td>\n      <td>1009.0</td>\n      <td>14943.0</td>\n      <td>240.8</td>\n      <td>38.30</td>\n      <td>33.12</td>\n      <td>57826</td>\n      <td>0</td>\n      <td>1</td>\n      <td>0</td>\n      <td>...</td>\n      <td>0</td>\n      <td>0</td>\n      <td>0</td>\n      <td>0</td>\n      <td>0</td>\n      <td>0</td>\n      <td>0</td>\n      <td>0</td>\n      <td>1</td>\n      <td>0</td>\n    </tr>\n    <tr>\n      <th>5</th>\n      <td>2022-15</td>\n      <td>1011.0</td>\n      <td>2303.6</td>\n      <td>53.6</td>\n      <td>67.12</td>\n      <td>31.28</td>\n      <td>10101</td>\n      <td>0</td>\n      <td>1</td>\n      <td>0</td>\n      <td>...</td>\n      <td>0</td>\n      <td>0</td>\n      <td>0</td>\n      <td>0</td>\n      <td>0</td>\n      <td>0</td>\n      <td>0</td>\n      <td>0</td>\n      <td>0</td>\n      <td>1</td>\n    </tr>\n    <tr>\n      <th>6</th>\n      <td>2022-15</td>\n      <td>1013.0</td>\n      <td>5053.8</td>\n      <td>129.0</td>\n      <td>49.60</td>\n      <td>32.02</td>\n      <td>19448</td>\n      <td>0</td>\n      <td>1</td>\n      <td>0</td>\n      <td>...</td>\n      <td>0</td>\n      <td>0</td>\n      <td>0</td>\n      <td>0</td>\n      <td>0</td>\n      <td>0</td>\n      <td>0</td>\n      <td>0</td>\n      <td>0</td>\n      <td>1</td>\n    </tr>\n    <tr>\n      <th>7</th>\n      <td>2022-15</td>\n      <td>1015.0</td>\n      <td>32360.8</td>\n      <td>621.8</td>\n      <td>57.20</td>\n      <td>35.48</td>\n      <td>113605</td>\n      <td>0</td>\n      <td>1</td>\n      <td>0</td>\n      <td>...</td>\n      <td>0</td>\n      <td>0</td>\n      <td>0</td>\n      <td>0</td>\n      <td>0</td>\n      <td>0</td>\n      <td>0</td>\n      <td>0</td>\n      <td>1</td>\n      <td>0</td>\n    </tr>\n    <tr>\n      <th>8</th>\n      <td>2022-15</td>\n      <td>1017.0</td>\n      <td>8476.2</td>\n      <td>161.6</td>\n      <td>37.72</td>\n      <td>36.58</td>\n      <td>33254</td>\n      <td>0</td>\n      <td>1</td>\n      <td>0</td>\n      <td>...</td>\n      <td>0</td>\n      <td>0</td>\n      <td>0</td>\n      <td>0</td>\n      <td>0</td>\n      <td>0</td>\n      <td>0</td>\n      <td>0</td>\n      <td>0</td>\n      <td>1</td>\n    </tr>\n    <tr>\n      <th>9</th>\n      <td>2022-15</td>\n      <td>1019.0</td>\n      <td>5117.2</td>\n      <td>85.4</td>\n      <td>37.80</td>\n      <td>38.06</td>\n      <td>26196</td>\n      <td>0</td>\n      <td>1</td>\n      <td>0</td>\n      <td>...</td>\n      <td>0</td>\n      <td>0</td>\n      <td>0</td>\n      <td>0</td>\n      <td>0</td>\n      <td>0</td>\n      <td>0</td>\n      <td>0</td>\n      <td>0</td>\n      <td>1</td>\n    </tr>\n  </tbody>\n</table>\n<p>10 rows × 62 columns</p>\n</div>"
     },
     "execution_count": 53,
     "metadata": {},
     "output_type": "execute_result"
    }
   ],
   "source": [
    "combined_weekly_encoded = pd.get_dummies(combined_weekly, columns = ['state', 'metro_status'])\n",
    "combined_weekly_encoded.head(10)"
   ],
   "metadata": {
    "collapsed": false,
    "pycharm": {
     "name": "#%%\n"
    }
   }
  },
  {
   "cell_type": "markdown",
   "source": [
    "Normalize avg cases, avg deaths, census pop."
   ],
   "metadata": {
    "collapsed": false
   }
  },
  {
   "cell_type": "code",
   "execution_count": 57,
   "outputs": [
    {
     "data": {
      "text/plain": "  year_week    fips  avg_cases  avg_deaths  administered_dose1_pct  \\\n0   2022-15  1001.0   2.681951    2.051994                   55.46   \n1   2022-15  1003.0  10.271635    7.238915                   64.18   \n2   2022-15  1005.0   0.756154    0.759171                   55.52   \n3   2022-15  1007.0   0.902745    0.801595                   42.50   \n4   2022-15  1009.0   2.527956    2.353429                   38.30   \n5   2022-15  1011.0   0.116054    0.263477                   67.12   \n6   2022-15  1013.0   0.640858    1.105263                   49.60   \n7   2022-15  1015.0   5.851692    6.607018                   57.20   \n8   2022-15  1017.0   1.293935    1.469219                   37.72   \n9   2022-15  1019.0   0.652956    0.618501                   37.80   \n\n   booster_pct  census_pop_2019  state_AK  state_AL  state_AR  ...  state_UT  \\\n0        32.40         0.514656         0         1         0  ...         0   \n1        35.06         3.466315         0         1         0  ...         0   \n2        32.88        -0.035290         0         1         0  ...         0   \n3        34.54        -0.075712         0         1         0  ...         0   \n4        33.12         0.549169         0         1         0  ...         0   \n5        31.28        -0.292512         0         1         0  ...         0   \n6        32.02        -0.127667         0         1         0  ...         0   \n7        35.48         1.532891         0         1         0  ...         0   \n8        36.58         0.115816         0         1         0  ...         0   \n9        38.06        -0.008659         0         1         0  ...         0   \n\n   state_VA  state_VI  state_VT  state_WA  state_WI  state_WV  state_WY  \\\n0         0         0         0         0         0         0         0   \n1         0         0         0         0         0         0         0   \n2         0         0         0         0         0         0         0   \n3         0         0         0         0         0         0         0   \n4         0         0         0         0         0         0         0   \n5         0         0         0         0         0         0         0   \n6         0         0         0         0         0         0         0   \n7         0         0         0         0         0         0         0   \n8         0         0         0         0         0         0         0   \n9         0         0         0         0         0         0         0   \n\n   metro_status_Metro  metro_status_Non-metro  \n0                   1                       0  \n1                   1                       0  \n2                   0                       1  \n3                   1                       0  \n4                   1                       0  \n5                   0                       1  \n6                   0                       1  \n7                   1                       0  \n8                   0                       1  \n9                   0                       1  \n\n[10 rows x 62 columns]",
      "text/html": "<div>\n<style scoped>\n    .dataframe tbody tr th:only-of-type {\n        vertical-align: middle;\n    }\n\n    .dataframe tbody tr th {\n        vertical-align: top;\n    }\n\n    .dataframe thead th {\n        text-align: right;\n    }\n</style>\n<table border=\"1\" class=\"dataframe\">\n  <thead>\n    <tr style=\"text-align: right;\">\n      <th></th>\n      <th>year_week</th>\n      <th>fips</th>\n      <th>avg_cases</th>\n      <th>avg_deaths</th>\n      <th>administered_dose1_pct</th>\n      <th>booster_pct</th>\n      <th>census_pop_2019</th>\n      <th>state_AK</th>\n      <th>state_AL</th>\n      <th>state_AR</th>\n      <th>...</th>\n      <th>state_UT</th>\n      <th>state_VA</th>\n      <th>state_VI</th>\n      <th>state_VT</th>\n      <th>state_WA</th>\n      <th>state_WI</th>\n      <th>state_WV</th>\n      <th>state_WY</th>\n      <th>metro_status_Metro</th>\n      <th>metro_status_Non-metro</th>\n    </tr>\n  </thead>\n  <tbody>\n    <tr>\n      <th>0</th>\n      <td>2022-15</td>\n      <td>1001.0</td>\n      <td>2.681951</td>\n      <td>2.051994</td>\n      <td>55.46</td>\n      <td>32.40</td>\n      <td>0.514656</td>\n      <td>0</td>\n      <td>1</td>\n      <td>0</td>\n      <td>...</td>\n      <td>0</td>\n      <td>0</td>\n      <td>0</td>\n      <td>0</td>\n      <td>0</td>\n      <td>0</td>\n      <td>0</td>\n      <td>0</td>\n      <td>1</td>\n      <td>0</td>\n    </tr>\n    <tr>\n      <th>1</th>\n      <td>2022-15</td>\n      <td>1003.0</td>\n      <td>10.271635</td>\n      <td>7.238915</td>\n      <td>64.18</td>\n      <td>35.06</td>\n      <td>3.466315</td>\n      <td>0</td>\n      <td>1</td>\n      <td>0</td>\n      <td>...</td>\n      <td>0</td>\n      <td>0</td>\n      <td>0</td>\n      <td>0</td>\n      <td>0</td>\n      <td>0</td>\n      <td>0</td>\n      <td>0</td>\n      <td>1</td>\n      <td>0</td>\n    </tr>\n    <tr>\n      <th>2</th>\n      <td>2022-15</td>\n      <td>1005.0</td>\n      <td>0.756154</td>\n      <td>0.759171</td>\n      <td>55.52</td>\n      <td>32.88</td>\n      <td>-0.035290</td>\n      <td>0</td>\n      <td>1</td>\n      <td>0</td>\n      <td>...</td>\n      <td>0</td>\n      <td>0</td>\n      <td>0</td>\n      <td>0</td>\n      <td>0</td>\n      <td>0</td>\n      <td>0</td>\n      <td>0</td>\n      <td>0</td>\n      <td>1</td>\n    </tr>\n    <tr>\n      <th>3</th>\n      <td>2022-15</td>\n      <td>1007.0</td>\n      <td>0.902745</td>\n      <td>0.801595</td>\n      <td>42.50</td>\n      <td>34.54</td>\n      <td>-0.075712</td>\n      <td>0</td>\n      <td>1</td>\n      <td>0</td>\n      <td>...</td>\n      <td>0</td>\n      <td>0</td>\n      <td>0</td>\n      <td>0</td>\n      <td>0</td>\n      <td>0</td>\n      <td>0</td>\n      <td>0</td>\n      <td>1</td>\n      <td>0</td>\n    </tr>\n    <tr>\n      <th>4</th>\n      <td>2022-15</td>\n      <td>1009.0</td>\n      <td>2.527956</td>\n      <td>2.353429</td>\n      <td>38.30</td>\n      <td>33.12</td>\n      <td>0.549169</td>\n      <td>0</td>\n      <td>1</td>\n      <td>0</td>\n      <td>...</td>\n      <td>0</td>\n      <td>0</td>\n      <td>0</td>\n      <td>0</td>\n      <td>0</td>\n      <td>0</td>\n      <td>0</td>\n      <td>0</td>\n      <td>1</td>\n      <td>0</td>\n    </tr>\n    <tr>\n      <th>5</th>\n      <td>2022-15</td>\n      <td>1011.0</td>\n      <td>0.116054</td>\n      <td>0.263477</td>\n      <td>67.12</td>\n      <td>31.28</td>\n      <td>-0.292512</td>\n      <td>0</td>\n      <td>1</td>\n      <td>0</td>\n      <td>...</td>\n      <td>0</td>\n      <td>0</td>\n      <td>0</td>\n      <td>0</td>\n      <td>0</td>\n      <td>0</td>\n      <td>0</td>\n      <td>0</td>\n      <td>0</td>\n      <td>1</td>\n    </tr>\n    <tr>\n      <th>6</th>\n      <td>2022-15</td>\n      <td>1013.0</td>\n      <td>0.640858</td>\n      <td>1.105263</td>\n      <td>49.60</td>\n      <td>32.02</td>\n      <td>-0.127667</td>\n      <td>0</td>\n      <td>1</td>\n      <td>0</td>\n      <td>...</td>\n      <td>0</td>\n      <td>0</td>\n      <td>0</td>\n      <td>0</td>\n      <td>0</td>\n      <td>0</td>\n      <td>0</td>\n      <td>0</td>\n      <td>0</td>\n      <td>1</td>\n    </tr>\n    <tr>\n      <th>7</th>\n      <td>2022-15</td>\n      <td>1015.0</td>\n      <td>5.851692</td>\n      <td>6.607018</td>\n      <td>57.20</td>\n      <td>35.48</td>\n      <td>1.532891</td>\n      <td>0</td>\n      <td>1</td>\n      <td>0</td>\n      <td>...</td>\n      <td>0</td>\n      <td>0</td>\n      <td>0</td>\n      <td>0</td>\n      <td>0</td>\n      <td>0</td>\n      <td>0</td>\n      <td>0</td>\n      <td>1</td>\n      <td>0</td>\n    </tr>\n    <tr>\n      <th>8</th>\n      <td>2022-15</td>\n      <td>1017.0</td>\n      <td>1.293935</td>\n      <td>1.469219</td>\n      <td>37.72</td>\n      <td>36.58</td>\n      <td>0.115816</td>\n      <td>0</td>\n      <td>1</td>\n      <td>0</td>\n      <td>...</td>\n      <td>0</td>\n      <td>0</td>\n      <td>0</td>\n      <td>0</td>\n      <td>0</td>\n      <td>0</td>\n      <td>0</td>\n      <td>0</td>\n      <td>0</td>\n      <td>1</td>\n    </tr>\n    <tr>\n      <th>9</th>\n      <td>2022-15</td>\n      <td>1019.0</td>\n      <td>0.652956</td>\n      <td>0.618501</td>\n      <td>37.80</td>\n      <td>38.06</td>\n      <td>-0.008659</td>\n      <td>0</td>\n      <td>1</td>\n      <td>0</td>\n      <td>...</td>\n      <td>0</td>\n      <td>0</td>\n      <td>0</td>\n      <td>0</td>\n      <td>0</td>\n      <td>0</td>\n      <td>0</td>\n      <td>0</td>\n      <td>0</td>\n      <td>1</td>\n    </tr>\n  </tbody>\n</table>\n<p>10 rows × 62 columns</p>\n</div>"
     },
     "execution_count": 57,
     "metadata": {},
     "output_type": "execute_result"
    }
   ],
   "source": [
    "scaler = RobustScaler()\n",
    "combined_weekly_encoded[['avg_cases', 'avg_deaths', 'census_pop_2019']] = scaler.fit_transform(combined_weekly_encoded[['avg_cases', 'avg_deaths', 'census_pop_2019']])\n",
    "combined_weekly_encoded = pd.DataFrame(combined_weekly_encoded, columns= combined_weekly_encoded.columns)\n",
    "combined_weekly_encoded.head(10)"
   ],
   "metadata": {
    "collapsed": false,
    "pycharm": {
     "name": "#%%\n"
    }
   }
  },
  {
   "cell_type": "code",
   "execution_count": 58,
   "outputs": [
    {
     "data": {
      "text/plain": "(348869, 62)"
     },
     "execution_count": 58,
     "metadata": {},
     "output_type": "execute_result"
    }
   ],
   "source": [
    "combined_weekly_encoded.shape"
   ],
   "metadata": {
    "collapsed": false,
    "pycharm": {
     "name": "#%%\n"
    }
   }
  },
  {
   "cell_type": "code",
   "execution_count": 59,
   "outputs": [],
   "source": [
    "combined_weekly_encoded.to_sql(name=\"combined_weekly_encoded_scaled\", con = conn, if_exists='replace', index = False)"
   ],
   "metadata": {
    "collapsed": false,
    "pycharm": {
     "name": "#%%\n"
    }
   }
  }
 ],
 "metadata": {
  "kernelspec": {
   "display_name": "Python 3",
   "language": "python",
   "name": "python3"
  },
  "language_info": {
   "codemirror_mode": {
    "name": "ipython",
    "version": 2
   },
   "file_extension": ".py",
   "mimetype": "text/x-python",
   "name": "python",
   "nbconvert_exporter": "python",
   "pygments_lexer": "ipython2",
   "version": "2.7.6"
  }
 },
 "nbformat": 4,
 "nbformat_minor": 0
}